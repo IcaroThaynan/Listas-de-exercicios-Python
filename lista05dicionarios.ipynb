{
 "cells": [
  {
   "cell_type": "code",
   "execution_count": null,
   "id": "be3cb329",
   "metadata": {},
   "outputs": [],
   "source": [
    "# 1. Dado o dicionário abaixo, atualize o valor de \"idade\" para 30. Em seguida,\n",
    "# imprima o dicionário atualizado. pessoa = {\"nome\": \"João\", \"idade\": 25, \"cidade\": \"São Paulo\"}\n",
    "\n",
    "pessoa = {\n",
    "    \"nome\": \"João\",\n",
    "    \"idade\": 25,\n",
    "    \"cidade\": \"São Paulo\"\n",
    "    }\n",
    "\n",
    "pessoa[\"idade\"] = 30\n",
    "\n",
    "print(pessoa)"
   ]
  },
  {
   "cell_type": "code",
   "execution_count": null,
   "id": "78e04d68",
   "metadata": {},
   "outputs": [],
   "source": [
    "# 2. Remova a chave \"cidade\" do dicionário pessoa anterior. Em seguida,\n",
    "# imprima o dicionário resultante.\n",
    "pessoa.pop(\"cidade\")\n",
    "\n",
    "print(pessoa)"
   ]
  },
  {
   "cell_type": "code",
   "execution_count": null,
   "id": "9c6a4196",
   "metadata": {},
   "outputs": [],
   "source": [
    "# 3. Crie um dicionário vazio chamado agenda. Adicione três pares nome:telefone lidos do usuário. Em seguida, mostre toda a agenda.\n",
    "agenda = {}\n",
    "\n",
    "for i in range(3):\n",
    "    nome = input(f\"Digite o nome da {i}ª pessoa da agenda.\")\n",
    "    telefone = input(f\"Digite o telefone do {i}º:\")\n",
    "    agenda[nome] = telefone\n",
    "print(agenda)"
   ]
  },
  {
   "cell_type": "code",
   "execution_count": null,
   "id": "ee8ed9ff",
   "metadata": {},
   "outputs": [],
   "source": [
    "# 4. Dado o dicionário a seguir, mostre separadamente:\n",
    "# carro = {\"marca\": \"Ford\", \"modelo\": \"Ka\", \"ano\": 2018}\n",
    "# a. Todas as chaves\n",
    "# b. Todos os valores\n",
    "# c. Todos os pares (chave, valor)\n",
    "carro = {\"marca\": \"Ford\", \"modelo\": \"Ka\", \"ano\": 2018}\n",
    "\n",
    "for k,v in carro.items():\n",
    "    print(f\"A Chave: {k} O valor: {v}\")\n",
    "    \n"
   ]
  },
  {
   "cell_type": "code",
   "execution_count": null,
   "id": "61ba0a82",
   "metadata": {},
   "outputs": [],
   "source": [
    "# 5. Peça ao usuário uma palavra e conte quantas vezes cada letra aparece,\n",
    "# armazenando as contagens em um dicionário. Imprima o dicionário\n",
    "# resultante.\n",
    "\n",
    "nome = input(\"Digite uma plavra para contar as letras\")\n",
    "letras = {}\n",
    "\n",
    "\n",
    "for letra in nome:\n",
    "    if(letra in letras):\n",
    "        letras[letra] = letras[letra]+1\n",
    "    else:\n",
    "        letras[letra]= 1\n",
    "\n",
    "for k,v in letras.items():\n",
    "    print(k, v)\n",
    "print(nome)\n",
    "    \n",
    "\n"
   ]
  },
  {
   "cell_type": "code",
   "execution_count": null,
   "id": "d2dcadf9",
   "metadata": {},
   "outputs": [],
   "source": [
    "# 6. Utilizando um dicionário, armazene os preços de três produtos fornecidos\n",
    "# pelo usuário. Depois, mostre todos os produtos e seus preços formatados\n",
    "# com duas casas decimais.\n",
    "prod = {\n",
    "    \"arroz\": None,\n",
    "    \"pão\": None,\n",
    "    \"cuscuz\": None\n",
    "}\n",
    "for p,v in prod.items():\n",
    "    prod[p] = float(input(f\"Digite o valor do {p}\"))\n",
    "\n",
    "for p,v in prod.items():\n",
    "    print(f\"O preço do {p} é de : {v:.2f}\")"
   ]
  },
  {
   "cell_type": "code",
   "execution_count": null,
   "id": "91611f54",
   "metadata": {},
   "outputs": [],
   "source": [
    "# 7. Crie um dicionário com três nomes de alunos como chave e listas de três\n",
    "# notas cada como valor. Em seguida, calcule e imprima a média de cada\n",
    "# aluno\n",
    "\n",
    "alunos = {\n",
    "    \"icaro\" : [],\n",
    "    \"igor\" : [],\n",
    "    \"leo\" : []\n",
    "}\n",
    "notas = []\n",
    "\n",
    "\n",
    "for chave,valor in alunos.items():\n",
    "    for i_notas in range(3):\n",
    "        n = float(input(f\"Digite a nota {i_notas+1} de {chave}\"))\n",
    "        notas.append(n) \n",
    "    alunos[chave] = notas\n",
    "    notas = []\n",
    "\n",
    "for chave,valor in alunos.items():\n",
    "    print(f\"{chave} ---- Notas: {valor}\")\n",
    "\n",
    "for chave,valor in alunos.items():\n",
    "    media = 0\n",
    "    soma = 0\n",
    "    for v in alunos[chave]:\n",
    "        soma+=v\n",
    "    media = soma/3\n",
    "    print(f\"A média de {chave} ficou de: {media}\")\n",
    "\n"
   ]
  },
  {
   "cell_type": "code",
   "execution_count": null,
   "id": "8c4f5154",
   "metadata": {},
   "outputs": [],
   "source": [
    "# 8. Usando update(), adicione os pares \"cor\":\"azul\" e \"tamanho\":\"M\" ao\n",
    "# dicionário abaixo. Em seguida, imprima o resultado.\n",
    "# roupa = {\"tipo\": \"camiseta\", \"preco\": 29.90}\n",
    "\n",
    "roupa = {\"tipo\": \"camiseta\", \"preco\": 29.90}\n",
    "\n",
    "roupa.update({\n",
    "    \"cor\" :\"azul\",\n",
    "    \"tamanho\" : \"M\"\n",
    "    })\n",
    "\n",
    "print(roupa)"
   ]
  },
  {
   "cell_type": "code",
   "execution_count": null,
   "id": "c5ed5dad",
   "metadata": {},
   "outputs": [],
   "source": [
    "# 9. Crie um dicionário qualquer com pelo menos 3 pares. Em seguida,\n",
    "# esvazie o dicionário usando clear() e imprima o resultado.\n",
    "dic = {\n",
    "    \"nome\" : \"Icaro\",\n",
    "    \"time\" : \"Fluminense\",\n",
    "    \"nick\" : \"IcaruS\"\n",
    "}\n",
    "\n",
    "dic.clear()\n",
    "print(dic)"
   ]
  },
  {
   "cell_type": "code",
   "execution_count": null,
   "id": "2b398e7f",
   "metadata": {},
   "outputs": [],
   "source": [
    "# 10.Use pop() para remover a chave \"idade\" do dicionário abaixo,\n",
    "# armazenando o valor removido em uma variável. Em seguida, imprima o\n",
    "# valor removido e o dicionário atualizado.\n",
    "# pessoa = {\"nome\": \"Carla\", \"idade\": 28, \"cidade\": \"Recife\"}\n",
    "pessoa = {\n",
    "    \"nome\": \"Carla\", \n",
    "    \"idade\": 28, \n",
    "    \"cidade\": \"Recife\"\n",
    "    }\n",
    "idade = pessoa.pop(\"idade\")\n",
    "print(idade)\n",
    "print(pessoa)"
   ]
  },
  {
   "cell_type": "code",
   "execution_count": null,
   "id": "4308a2e1",
   "metadata": {},
   "outputs": [],
   "source": [
    "# 11.Crie um programa que leia várias palavras digitadas pelo usuário até ele\n",
    "# digitar \"fim\". Para cada palavra digitada, conte quantas vezes ela foi\n",
    "# repetida usando um dicionário. Por fim, imprima o resultado.\n",
    "dic = {\n",
    "    \"palavra\" : \"fim\"\n",
    "}\n",
    "while(True):\n",
    "    palavra = input(\"Digite a palavra para sair:\")\n",
    "    if(palavra == dic[\"palavra\"]):\n",
    "        break"
   ]
  },
  {
   "cell_type": "code",
   "execution_count": null,
   "id": "55ae1544",
   "metadata": {},
   "outputs": [],
   "source": [
    "# 12.Crie um dicionário representando um aluno com nome, curso e uma lista\n",
    "# de notas. Em seguida, imprima todas as informações no formato: chave:\n",
    "# valor.\n",
    "aluno = {\n",
    "    \"nome\" : \"Icaro Thaynan\",\n",
    "    \"curso\" : \"Ads\",\n",
    "    \"notas\" : [7, 6, 4, 3]\n",
    "}\n",
    "\n",
    "for chave,valor in aluno.items():\n",
    "    print(f\"{chave}: {valor} \")"
   ]
  },
  {
   "cell_type": "code",
   "execution_count": null,
   "id": "d8b7e5d1",
   "metadata": {},
   "outputs": [],
   "source": [
    "# 13.Monte um sistema simples de cadastro de alunos, onde você armazena\n",
    "# nome e notas em um dicionário. Depois, calcule e imprima a média das\n",
    "# notas.\n",
    "alunos.clear()\n",
    "\n",
    "alunos = {}\n",
    "notas = []\n",
    "\n",
    "qnt_aluno = int(input(\"Quantos alunos deseja cadastrar ?\"))\n",
    "qnt_notas = int(input(\"Quantas notas deseja cadastrar ?\"))\n",
    "\n",
    "\n",
    "\n",
    "for i in range(qnt_aluno):\n",
    "    aluno = input(\"Digite o nome do aluno: \")\n",
    "    for i_notas in range(qnt_notas):\n",
    "        n = float(input(f\"Digite a nota {i_notas+1} de {chave}\"))\n",
    "        notas.append(n) \n",
    "    alunos[aluno] = notas\n",
    "    notas = []\n",
    "\n",
    "for chave,valor in alunos.items():\n",
    "    print(f\"{chave} ---- Notas: {valor}\")\n",
    "\n",
    "for chave,valor in alunos.items():\n",
    "    media = 0\n",
    "    soma = 0\n",
    "    for v in alunos[chave]:\n",
    "        soma+=v\n",
    "    media = soma/qnt_notas\n",
    "    print(f\"A média de {chave} ficou de: {media}\")\n",
    "\n"
   ]
  },
  {
   "cell_type": "code",
   "execution_count": 28,
   "id": "8a26645b",
   "metadata": {},
   "outputs": [
    {
     "name": "stdout",
     "output_type": "stream",
     "text": [
      "icaro  icaro  joao icaro joao   icaro\n"
     ]
    },
    {
     "data": {
      "text/plain": [
       "{'icaro': 4, 'joao': 2}"
      ]
     },
     "execution_count": 28,
     "metadata": {},
     "output_type": "execute_result"
    }
   ],
   "source": [
    "# 14.Dado um texto digitado pelo usuário, conte quantas vezes cada palavra\n",
    "# aparece usando um dicionário. Ignore maiúsculas/minúsculas.\n",
    "import re\n",
    "texto = input(\"Digite uma frase\")\n",
    "palavras = {}\n",
    "\n",
    "texto = texto.replace(\",\", \" \")\n",
    "texto = texto.replace(\".\", \" \")\n",
    "texto = texto.replace(\"-\", \" \")\n",
    "print(texto)\n",
    "lista_palavras = texto.split()\n",
    "\n",
    "\n",
    "for palavra in lista_palavras:\n",
    "\n",
    "    if(palavra in palavras):\n",
    "        palavras[palavra] = palavras[palavra]+1\n",
    "    else:\n",
    "        palavras[palavra]= 1\n",
    "\n",
    "palavras"
   ]
  },
  {
   "cell_type": "code",
   "execution_count": null,
   "id": "b693cb00",
   "metadata": {},
   "outputs": [],
   "source": [
    "# 15.Solicite ao usuário o nome de 5 pessoas e suas idades, e armazene em\n",
    "# um dicionário. Depois, mostre apenas as pessoas com idade maior ou\n",
    "# igual a 18.\n",
    "nomes = {}\n",
    "\n",
    "for i in range(5):\n",
    "    nome = input(f\"Digite o {i}º nome\")\n",
    "    idade = int(input(\"Digite a idade:\"))\n",
    "    nomes[nome] = idade\n",
    "\n",
    "for chave,valor in nomes.items():\n",
    "    if(valor > 18):\n",
    "        print(f\"{chave}: {valor}\")"
   ]
  }
 ],
 "metadata": {
  "kernelspec": {
   "display_name": "Python 3",
   "language": "python",
   "name": "python3"
  },
  "language_info": {
   "codemirror_mode": {
    "name": "ipython",
    "version": 3
   },
   "file_extension": ".py",
   "mimetype": "text/x-python",
   "name": "python",
   "nbconvert_exporter": "python",
   "pygments_lexer": "ipython3",
   "version": "3.12.10"
  }
 },
 "nbformat": 4,
 "nbformat_minor": 5
}
