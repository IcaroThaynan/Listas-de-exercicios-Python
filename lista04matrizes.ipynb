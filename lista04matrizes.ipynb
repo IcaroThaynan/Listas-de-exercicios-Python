{
 "cells": [
  {
   "cell_type": "code",
   "execution_count": null,
   "id": "2c86bc0a",
   "metadata": {},
   "outputs": [
    {
     "data": {
      "text/plain": [
       "['I', 'C', 'A', 'R', 'O']"
      ]
     },
     "execution_count": 5,
     "metadata": {},
     "output_type": "execute_result"
    }
   ],
   "source": [
    "#1# Escreva um algoritmo para criar e exibir uma lista de 5 nomes.\n",
    "nomes = []\n",
    "\n",
    "for i in range(5):\n",
    "    nome = input(\"Digite um nome: \")\n",
    "    nomes.append(nome)\n",
    "nomes"
   ]
  },
  {
   "cell_type": "code",
   "execution_count": null,
   "id": "1b4c1bef",
   "metadata": {},
   "outputs": [
    {
     "name": "stdout",
     "output_type": "stream",
     "text": [
      "A Soma dos numeros:[1, 2, 3, 4, 5]\n",
      " dá um total de 15\n"
     ]
    }
   ],
   "source": [
    "#2# Escreva um algoritmo que some os elementos de uma lista de números.\n",
    "\n",
    "lista = []\n",
    "soma = 0\n",
    "for i in range(5):\n",
    "    numero = int(input(\"Digite um nome: \"))\n",
    "    list.append(numero)\n",
    "\n",
    "for i in range(5):\n",
    "    soma+=lista[i]\n",
    "print(f\"A Soma dos numeros:{lista}\")\n",
    "print(f\"Dá um total de {soma}\")\n"
   ]
  },
  {
   "cell_type": "code",
   "execution_count": null,
   "id": "8b29755f",
   "metadata": {},
   "outputs": [
    {
     "name": "stdout",
     "output_type": "stream",
     "text": [
      "200\n"
     ]
    }
   ],
   "source": [
    "#3# Escreva um algoritmo que encontre o maior valor de uma lista.\n",
    "\n",
    "lista = [200,11,3,3,10]\n",
    "maior = 0\n",
    "for i in lista:\n",
    "    if(i>maior):\n",
    "      maior=i\n",
    "print(maior)"
   ]
  },
  {
   "cell_type": "code",
   "execution_count": 44,
   "id": "71e30325",
   "metadata": {},
   "outputs": [
    {
     "name": "stdout",
     "output_type": "stream",
     "text": [
      "Essa lista possui 2 numeros pares\n"
     ]
    }
   ],
   "source": [
    "#4# Escreva um algoritmo que analise uma lista e informe quantos elementos dessa lista são pares.\n",
    "\n",
    "lista = [200,11,3,3,10]\n",
    "qnt = 0\n",
    "\n",
    "for i in lista:\n",
    "    if(i%2 == 0 ):\n",
    "        qnt+=1\n",
    "        \n",
    "print(f\"Essa lista possui {qnt} numeros pares\")"
   ]
  },
  {
   "cell_type": "code",
   "execution_count": null,
   "id": "7f3ac497",
   "metadata": {},
   "outputs": [
    {
     "name": "stdout",
     "output_type": "stream",
     "text": [
      "A lista [1, 2, 3, 4, 5, 6, 7, 8, 9, 10] \n",
      "De ré fica: \n",
      "[10, 9, 8, 7, 6, 5, 4, 3, 2, 1]\n"
     ]
    }
   ],
   "source": [
    "#5# Escreva um algoritmo que imprima os elementos de uma lista na ordem inversa.\n",
    "\n",
    "lista = [1,2,3,4,5,6,7,8,9,10]\n",
    "print(f\"A lista {lista} \\nDe ré fica: \")\n",
    "lista.reverse()\n",
    "print(f\"{lista}\")\n"
   ]
  },
  {
   "cell_type": "code",
   "execution_count": null,
   "id": "764dd1f7",
   "metadata": {},
   "outputs": [
    {
     "name": "stdout",
     "output_type": "stream",
     "text": [
      "A lista purificada de negatividade é: [1, -2, -3, 4, -5, -6]\n"
     ]
    }
   ],
   "source": [
    "#6# Escreva um algoritmo que remova todos os elementos negativos de uma lista.\n",
    "\n",
    "lista = [1, -2, -3, 4, -5, -6, -7, -8, -9, -10]\n",
    "for i in lista:\n",
    "    if( i < 0):\n",
    "        lista.pop()\n",
    "print(f\"A lista purificada de negatividade é: {lista}\")"
   ]
  },
  {
   "cell_type": "code",
   "execution_count": null,
   "id": "dc3df129",
   "metadata": {},
   "outputs": [
    {
     "name": "stdout",
     "output_type": "stream",
     "text": [
      "o número 4 aparece: 2\n"
     ]
    }
   ],
   "source": [
    "#7# Escreva um algoritmo que conte quantas vezes um determinado elemento aparece na lista.\n",
    "\n",
    "lista = [1, 2, 2, 4, 2, 2, 2, 4, 6, 10]\n",
    "nver = int(input(\"Digite um numero para verificar quantas vezes ele aparece na lista: \"))\n",
    "print(f\"o número {nver} aparece: {lista.count(nver)} vezes\")\n"
   ]
  },
  {
   "cell_type": "code",
   "execution_count": null,
   "id": "8ca47648",
   "metadata": {},
   "outputs": [
    {
     "name": "stdout",
     "output_type": "stream",
     "text": [
      "Lista em ordem crescente!!!!\n"
     ]
    }
   ],
   "source": [
    "#8# Escreva um algoritmo que verifique se uma lista está em ordem crescente.\n",
    "\n",
    "lista = [1, 2, 2, 2, 2, 2, 4, 6, 10]\n",
    "if(lista == sorted(lista)):\n",
    "    print(\"Lista em ordem crescente!!!!\")\n",
    "else:\n",
    "    print(\"Não está ordenada\")\n",
    "    "
   ]
  },
  {
   "cell_type": "code",
   "execution_count": null,
   "id": "4c062ae4",
   "metadata": {},
   "outputs": [
    {
     "name": "stdout",
     "output_type": "stream",
     "text": [
      "[4, 2, 3, 4, 5, 6, 7, 8, 9, 10]\n",
      "6\n"
     ]
    }
   ],
   "source": [
    "#9# Escreva um algoritmo que leia uma lista de 10 posições e em seguida ler também dois valores X e Y quaisquer correspondentes a duas posições na lista. Ao final seu programa\n",
    "## deverá escrever a soma dos valores encontrados nas respectivas posições X e Y.\n",
    "\n",
    "lista = [4, 2, 3, 4, 5, 6, 7, 8, 9, 10]\n",
    "print(lista)\n",
    "n1 = int(input(\"Qual a posição do primeiro numero que deseja somar? \"))\n",
    "n2 = int(input(\"Qual a posição do segundo numero que deseja somar? \"))\n",
    "soma = lista[n1-1]+lista[n2-1]\n",
    "print(soma)"
   ]
  },
  {
   "cell_type": "code",
   "execution_count": null,
   "id": "ec0d73ef",
   "metadata": {},
   "outputs": [
    {
     "name": "stdout",
     "output_type": "stream",
     "text": [
      "[]\n"
     ]
    }
   ],
   "source": [
    "#10# Escreva um algoritmo que leia uma lista de 6 posições e troque os 3 primeiros valores pelos 3 últimos. Escreva ao final a lista obtida.\n",
    "\n",
    "lista = [1, 2, 3, 4, 5, 6]\n",
    "for i in range(len(lista), -1, -1):\n",
    "    if( i < 3):\n",
    "        lista.append(lista[i])\n",
    "        lista.pop(i)\n",
    "print(f'{lista}')"
   ]
  },
  {
   "cell_type": "code",
   "execution_count": 5,
   "id": "6d76e19b",
   "metadata": {},
   "outputs": [
    {
     "name": "stdout",
     "output_type": "stream",
     "text": [
      "Valor encontrado! no index: 1\n"
     ]
    }
   ],
   "source": [
    "#11# Leia uma lista de 5 posições e em seguida um valor X qualquer. Seu programa devera\n",
    "## fazer uma busca do valor de X no vetor lido e informar a posição em que foi encontrado\n",
    "## ou se não foi encontrado.\n",
    "\n",
    "lista = [4, 2, 2, 5, 9]\n",
    "nver = int(input(\"Digite o valor para verificar: \"))\n",
    "if(nver in lista):\n",
    "        print(f\"Valor encontrado! no index: {lista.index(nver)}\")\n",
    "else:\n",
    "    print(\"Número não localizado na lista\")\n",
    "    "
   ]
  },
  {
   "cell_type": "code",
   "execution_count": 7,
   "id": "7b4dc164",
   "metadata": {},
   "outputs": [
    {
     "name": "stdout",
     "output_type": "stream",
     "text": [
      "-> [2, 6] se repetem\n"
     ]
    }
   ],
   "source": [
    "#12# Leia uma lista com 5 elementos, verifique se existem elementos iguais e os escreva.\n",
    "\n",
    "lista = [2, 2, 3, 6, 6]\n",
    "listab = []\n",
    "\n",
    "for i in lista:\n",
    "    if(lista.count(i) > 1):\n",
    "        if(listab.count(i) < 1):\n",
    "            listab.append(i)\n",
    "if(listab == []):\n",
    "    print('Valores não se repetem')\n",
    "else:\n",
    "    print(f'-> {listab} se repetem')\n",
    "        \n",
    "        "
   ]
  },
  {
   "cell_type": "code",
   "execution_count": null,
   "id": "a6dc5a00",
   "metadata": {},
   "outputs": [],
   "source": [
    "#13. Considere um vetor de trajetórias de 9 elementos, onde cada elemento possui o valor do próximo elemento do vetor a ser lido.\n",
    "#Índice 0 1 2 3 4 5 6 7 8 \n",
    "#Valor  5 7 6 1 2 8 4 0 3\n",
    "#Assim, a sequência da leitura seria 0, 5, 8, 3, 1, 7, 0, 6, 8, 0\n",
    "#Faça um algoritmo que seja capaz de ler esse vetor e seguir a trajetória imprimindo os valores correspondentes.\n",
    "\n",
    "lista = [5, 7, 6, 1, 2, 8, 4, 0, 3]\n",
    "i = 0\n",
    "listab = [i]\n",
    "while (True):\n",
    "    listab.append(lista[i])\n",
    "    i = lista[i]\n",
    "    if(i == 0):\n",
    "        break\n",
    "listab"
   ]
  },
  {
   "cell_type": "code",
   "execution_count": 9,
   "id": "3639f096",
   "metadata": {},
   "outputs": [
    {
     "name": "stdout",
     "output_type": "stream",
     "text": [
      "Maior Elemento: 15. Se encontra na linha 3 e coluna 2\n"
     ]
    }
   ],
   "source": [
    "#14. Leia uma matriz 3 x 3 e escreva a localização (linha e a coluna) do maior valor.\n",
    "matriz = [[1, 2, 3],[4, 9, 0],[5, 15, 7]]\n",
    "maior = 0\n",
    "linha = 0\n",
    "coluna = 0\n",
    "for i in range(len(matriz)):\n",
    "    for j in range(len(matriz[i])):\n",
    "        if(matriz[i][j] > maior):\n",
    "            maior = matriz[i][j]\n",
    "            linha = i\n",
    "            coluna = j\n",
    "print(f'Maior Elemento: {maior}. Se encontra na linha {linha+1} e coluna {coluna+1}')"
   ]
  },
  {
   "cell_type": "code",
   "execution_count": 6,
   "id": "0242e64b",
   "metadata": {},
   "outputs": [
    {
     "data": {
      "text/plain": [
       "[[44, 6, 7], [8, 9, 32], [45, 66, 39]]"
      ]
     },
     "execution_count": 6,
     "metadata": {},
     "output_type": "execute_result"
    }
   ],
   "source": [
    "#15# Leia duas matrizes 3 x 3 e escreva uma terceira com os maiores elementos entre as\n",
    "## primeiras\n",
    "\n",
    "mtz1 = [[1, 6, 7],\n",
    "        [8,6, 12],\n",
    "        [22,66,33]\n",
    "        ]\n",
    "mtz2 = [[44,2,3],\n",
    "        [4,9,32],\n",
    "        [45,2,39]\n",
    "        ]\n",
    "\n",
    "matriz = [[0,0,0],[0,0,0],[0,0,0]]\n",
    "maior = 0\n",
    "\n",
    "for linha in range(len(mtz1)):\n",
    "    for coluna in range(len(mtz1[linha])):\n",
    "                if(matriz[linha][coluna] < mtz1[linha][coluna] or matriz[linha][coluna] < mtz2[linha][coluna]):\n",
    "                        if(mtz1[linha][coluna]>mtz2[linha][coluna]):\n",
    "                                matriz[linha][coluna] = mtz1[linha][coluna]\n",
    "                        else:\n",
    "                                matriz[linha][coluna] = mtz2[linha][coluna]\n",
    "\n",
    "matriz\n",
    "\n"
   ]
  },
  {
   "cell_type": "code",
   "execution_count": 13,
   "id": "22712387",
   "metadata": {},
   "outputs": [
    {
     "name": "stdout",
     "output_type": "stream",
     "text": [
      "[[1, 2, 3], [4, 5, 6], [7, 8, 9]]\n",
      "O número 1 está na linha e coluna: [1,1]\n"
     ]
    }
   ],
   "source": [
    "#16# Leia uma matriz 3 x 3. Leia também um valor X. O programa deverá fazer uma busca\n",
    "## desse valor na matriz e, ao final escrever a localização (linha e coluna) ou uma mensagem\n",
    "## de “não encontrado”.\n",
    "\n",
    "matriz = []\n",
    "\n",
    "for i in range(3):\n",
    "    new_line = []\n",
    "    for j in range(3):\n",
    "        y = int(input(f'-> Digite um valor para {i}:{j} :'))\n",
    "        new_line.append(y)\n",
    "    matriz.append(new_line)\n",
    "print(matriz)\n",
    "\n",
    "nverificador = int(input(\"Digite o número para procurar: \"))\n",
    "\n",
    "for linha in range(len(matriz)):\n",
    "    for coluna in range(len(matriz[linha])):\n",
    "        if (nverificador == matriz[linha][coluna]):\n",
    "            posLinha = linha\n",
    "            posColuna = coluna\n",
    "\n",
    "if(matriz[posLinha][posColuna] != nverificador):\n",
    "    print(f\"Número não encontrado na tabela!\")\n",
    "else:\n",
    "    print(f\"O número {nverificador} está na linha e coluna: [{posLinha+1},{posColuna+1}]\")"
   ]
  },
  {
   "cell_type": "code",
   "execution_count": 15,
   "id": "75451fca",
   "metadata": {},
   "outputs": [
    {
     "name": "stdout",
     "output_type": "stream",
     "text": [
      "A Matriz em questão forma um quadrado MÁGICO!!!\n",
      "[5, 5, 5]\n",
      "[5, 5, 5]\n",
      "[5, 5, 5]\n"
     ]
    }
   ],
   "source": [
    "# Quadrados Mágicos consistem em uma matriz numérica quadrada em que as somas das\n",
    "# linhas, das colunas e das duas diagonais principais são as mesmas. Por exemplo o\n",
    "# Quadrado Mágico 3 x 3, que é formado pelos nove dígitos: 1,2,3,4,5,6,7,8,9 dispostos\n",
    "# em três linhas e três colunas é o seguinte:\n",
    "# 6 1 8\n",
    "# 7 5 3\n",
    "# 2 9 4\n",
    "# Note que a soma das linhas, colunas e diagonais é 15. Faça um programa que lê 9 dígitos,\n",
    "# verifica se não há repe=ções entre eles (tem que ser exatamente os números de 1 a 9,\n",
    "# em qualquer ordem, mas sem repe=ções), monta o quadrado e imprime como resultado\n",
    "# se é ou não um quadrado mágico.\n",
    "\n",
    "matriz = []\n",
    "n = int(input(f'Digite a dimensão da Matriz: '))\n",
    "linha = 0\n",
    "coluna = 0\n",
    "diagonal = 0\n",
    "somalinha = 0\n",
    "somacoluna = 0\n",
    "for i in range(n):\n",
    "    nova_linha = []\n",
    "    for j in range(n):\n",
    "        v = int(input(f'-> Digite um valor para {i}:{j} :'))\n",
    "        nova_linha.append(v)\n",
    "    matriz.append(nova_linha)\n",
    "for l in range(n):\n",
    "    linha = 0\n",
    "    coluna = 0\n",
    "    for c in range(len(matriz[l])):\n",
    "        linha += matriz[l][c]\n",
    "        coluna += matriz[c][l]\n",
    "        if(l == c):\n",
    "            if(matriz[l][c] == 5):\n",
    "                diagonal = n\n",
    "    if(linha == 15):\n",
    "        somalinha +=1\n",
    "    if(coluna == 15):\n",
    "        somacoluna += 1\n",
    "if(somalinha == n and somacoluna == n and diagonal == n):\n",
    "    print(\"A Matriz em questão forma um quadrado MÁGICO!!!\")\n",
    "else:\n",
    "    print('A Matriz em questão NÃO forma um quadrado MÁGICO!!!')\n",
    "for h in matriz:\n",
    "    print(h)"
   ]
  }
 ],
 "metadata": {
  "kernelspec": {
   "display_name": "Python 3",
   "language": "python",
   "name": "python3"
  },
  "language_info": {
   "codemirror_mode": {
    "name": "ipython",
    "version": 3
   },
   "file_extension": ".py",
   "mimetype": "text/x-python",
   "name": "python",
   "nbconvert_exporter": "python",
   "pygments_lexer": "ipython3",
   "version": "3.11.9"
  }
 },
 "nbformat": 4,
 "nbformat_minor": 5
}
